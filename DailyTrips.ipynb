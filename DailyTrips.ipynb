{
 "cells": [
  {
   "cell_type": "code",
   "execution_count": 2,
   "id": "41a6c3e0-1818-4756-aa24-d3802f2150ca",
   "metadata": {},
   "outputs": [],
   "source": [
    "import pandas as pd\n",
    "import numpy as np\n",
    "import src.ModelRunner as MR\n",
    "import re\n",
    "from sklearn.model_selection import RandomizedSearchCV\n",
    "from sklearn import metrics\n",
    "from sklearn.ensemble import RandomForestRegressor\n",
    "from sklearn.model_selection import train_test_split\n",
    "from pandas.api.types import CategoricalDtype\n",
    "from pandas import get_dummies\n",
    "\n",
    "TRIPS_PATH = \"datasets/bus_trips.csv\"\n",
    "BLOCKS_PATH = \"datasets/blocks.csv\"\n",
    "DESIGN_MATRIX_PATH = \"datasets/design_matrix.csv\"\n",
    "\n",
    "\n",
    "def rename_column(col_name, *remove_chars):\n",
    "    \"\"\"\n",
    "    col_name: str\n",
    "        Column to rename\n",
    "    remove_chars: str\n",
    "        String containing characters to remove from the column\n",
    "    \n",
    "    Returns column lowercased and without remove_chars\n",
    "    \"\"\"\n",
    "    col_name = col_name.replace(\" \", \"_\").lower()\n",
    "    col_name = col_name.replace(\"/\", \"_\")\n",
    "    return re.sub(\"|\".join(char for char in remove_chars), \"\", col_name)\n",
    "\n",
    "\n",
    "assert rename_column(\"Electric Heater Energy [kWh]\", \"\\[\", \"]\") == \"electric_heater_energy_kwh\"\n",
    "\n",
    "\n",
    "# Read in CSV\n",
    "M = pd.read_csv(DESIGN_MATRIX_PATH).rename(mapper=lambda x: rename_column(x), axis=1)\n",
    "\n",
    "# Cast Bus to Categorical Dtype\n",
    "categories = CategoricalDtype(categories=[22901, 22902, 22903], ordered=False)\n",
    "M.bus = M.bus.astype(categories)\n",
    "\n",
    "# Hot-one encode bus\n",
    "M = pd.get_dummies(data=M, columns=[\"bus\"], dtype=int, drop_first=True)\n",
    "\n",
    "# Define X & Y to feed into models\n",
    "X, Y = M.iloc[:, 2:4], M.iloc[:, 1]\n",
    "\n",
    "# Instantiate model runner\n",
    "mr = MR.ModelRunner(Y=Y, X=X)\n"
   ]
  },
  {
   "cell_type": "code",
   "execution_count": 16,
   "id": "ccf17165-859c-43ab-8e89-889374291d1f",
   "metadata": {},
   "outputs": [
    {
     "data": {
      "text/plain": [
       "['models/power_consumption_linear_regression.sav']"
      ]
     },
     "execution_count": 16,
     "metadata": {},
     "output_type": "execute_result"
    }
   ],
   "source": [
    "# Linear Regression\n",
    "import joblib\n",
    "from numpy import log, sqrt\n",
    "from sklearn.model_selection import train_test_split\n",
    "from sklearn.linear_model import LinearRegression\n",
    "\n",
    "\n",
    "LIN_REGR_MODEL_OUTPUT_PATH = \"models/power_consumption_linear_regression.sav\"\n",
    "\n",
    "\n",
    "y = M[\"power_consumption\"]\n",
    "X_reg = pd.DataFrame({\n",
    "    \"temperature\": M[\"temperature\"],\n",
    "    \"temp_sq\": M[\"temperature\"] ** 2,\n",
    "    \"speed\": M[\"speed\"]\n",
    "})\n",
    "\n",
    "Xtrain_reg, Xtest_reg, ytrain_reg, ytest_reg = train_test_split(X_reg, y, test_size=0.2, random_state=42)\n",
    "\n",
    "regr = LinearRegression()\n",
    " \n",
    "regr.fit(Xtrain_reg, ytrain_reg)\n",
    "\n",
    "joblib.dump(regr, LIN_REGR_MODEL_OUTPUT_PATH)\n"
   ]
  },
  {
   "cell_type": "code",
   "execution_count": null,
   "id": "9cbdaecf-64a4-4a17-94b6-09e4a8396f8c",
   "metadata": {},
   "outputs": [],
   "source": [
    "import src.ModelRunner as MR\n",
    "\n",
    "\n",
    "# Read in data\n",
    "M = pd.read_csv(\"datasets/design_matrix.csv\")\n",
    "\n",
    "# Define X & Y to feed into models\n",
    "X, Y = M.iloc[:, 2:], M.iloc[:, 1]\n",
    "\n",
    "# Instantiate\n",
    "mr = MR.ModelRunner(Y, X)\n",
    "\n",
    "# Run models\n",
    "mr.run_random_forest_regression()\n",
    "mr.run_svr()\n",
    "mr.score_models()\n",
    "print(mr.model_scores)\n"
   ]
  }
 ],
 "metadata": {
  "kernelspec": {
   "display_name": "Python 3 (ipykernel)",
   "language": "python",
   "name": "python3"
  },
  "language_info": {
   "codemirror_mode": {
    "name": "ipython",
    "version": 3
   },
   "file_extension": ".py",
   "mimetype": "text/x-python",
   "name": "python",
   "nbconvert_exporter": "python",
   "pygments_lexer": "ipython3",
   "version": "3.11.4"
  }
 },
 "nbformat": 4,
 "nbformat_minor": 5
}
